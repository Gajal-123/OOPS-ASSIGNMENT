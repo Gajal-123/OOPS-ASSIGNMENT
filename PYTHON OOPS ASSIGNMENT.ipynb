{
 "cells": [
  {
   "cell_type": "markdown",
   "id": "e9108559-c89b-42b8-99c9-2c00a46ff3f9",
   "metadata": {},
   "source": [
    "##PYTHON OOPS QUESTION :-"
   ]
  },
  {
   "cell_type": "markdown",
   "id": "f0364cd5-caf2-4f3e-98b8-5c8fb9932eab",
   "metadata": {},
   "source": [
    "#THEORY QUESTION:-"
   ]
  },
  {
   "cell_type": "markdown",
   "id": "48c9df92-1779-4476-a0f8-491286a3c76b",
   "metadata": {},
   "source": [
    "1. What is Object-Oriented Programming (OOP) ?\n",
    "   -\n",
    "   Object-Oriented Programming (OOP) is a programming paradigm that organizes software design around data, or objects, rather than functions and logic. An object can be defined as a data field that has unique attributes and behavior .\n",
    "\n",
    "Core Concepts of OOP\n",
    "Classes and Objects: A class is a blueprint for creating objects. It defines a set of attributes and methods that the created objects will have. An object is an instance of a class .\n",
    "GeeksforGeeks\n",
    "\n",
    "Encapsulation: This principle binds together the data and the functions that manipulate the data, and keeps both safe from outside interference and misuse. It helps in hiding the internal state of the object from the outside world .\n",
    "\n",
    "Inheritance: Inheritance allows a class (called a subclass) to inherit attributes and methods from another class (called a superclass). This promotes code reusability and establishes a relationship between different classes .\n",
    "\n",
    "Polymorphism: Polymorphism allows methods to do different things based on the object it is acting upon, even though they share the same name. This enables one interface to be used for a general class of actions .\n",
    "\n",
    "Abstraction: Abstraction means hiding the complex implementation details and showing only the essential features of the object. It helps in reducing programming complexity and effort ."
   ]
  },
  {
   "cell_type": "markdown",
   "id": "2c9bb4a6-cf86-4e78-b0bd-138b7309708d",
   "metadata": {},
   "source": [
    "2. What is a class in OOP?\n",
    "   -\n",
    "   In object-oriented programming (OOP), a class serves as a blueprint for creating objects. It defines a set of attributes (also known as member variables or properties) and methods (functions or behaviors) that the objects created from the class will possess. This structure allows for the creation of multiple objects that share the same characteristics and behaviors but can have different values for their attributes.\n",
    "\n",
    "Key Characteristics of a Class\n",
    "Attributes (Properties): These are variables that hold data specific to an object. For example, in a Car class, attributes might include color, make, and model.\n",
    "\n",
    "Methods (Functions): These define the behaviors or actions that an object can perform. Continuing with the Car example, methods might include start_engine(), accelerate(), and brake().\n",
    "\n",
    "Instantiation: A class itself is not an object but a template for creating objects. When you create an object from a class, it's called an instance of that class. Each instance can have unique values for its attributes.\n",
    "\n",
    "Analogy\n",
    "Think of a class as an architectural blueprint for a house. The blueprint outlines the design, layout, and features of the house but isn't a physical house itself. Builders can use this blueprint to construct multiple houses, each potentially customized with different paint colors, fixtures, or furnishings. Similarly, a class defines the structure and behavior of objects, and you can create multiple instances of the class, each with its own specific attribute values."
   ]
  },
  {
   "cell_type": "markdown",
   "id": "123c9d0d-fb6f-4731-90b7-8fd0d8a4fd28",
   "metadata": {},
   "source": [
    "3. What is an object in OOP?\n",
    "   -\n",
    "   In object-oriented programming (OOP), an object is a fundamental unit that encapsulates both data and behavior. It represents a specific instance of a class, embodying the structure and functionalities defined by that class.\n",
    "\n",
    "Characteristics of an Object\n",
    "Each object in OOP possesses three primary characteristics:\n",
    "\n",
    "a. Identity: A unique identifier that distinguishes the object from all other objects. This identity allows the object to be referenced and interacted with individually.\n",
    "\n",
    "b. State: The data or attributes that define the object's current condition. These are typically represented by variables within the object.\n",
    "\n",
    "c. Behavior: The set of methods or functions that the object can perform. These behaviors define how the object interacts with other objects and responds to various inputs."
   ]
  },
  {
   "cell_type": "markdown",
   "id": "281a74ed-311b-4e79-bcfa-37d908005819",
   "metadata": {},
   "source": [
    "4. What is the difference between abstraction and encapsulation?\n",
    "   -\n",
    "   Abstraction:-\n",
    "-> Definition: Abstraction is the process of hiding the complex implementation details of a system and exposing only the essential features to the user. It focuses on what an object does rather than how it does it.\n",
    "GeeksforGeeks\n",
    "\n",
    "-> Purpose: To manage complexity by reducing and factoring out details so that one can focus on a few concepts at a time.\n",
    "\n",
    "-> Implementation: Achieved through abstract classes and interfaces that define a contract without specifying the exact implementation.\n",
    "\n",
    "-> Example: Consider a car's steering wheel. When you turn it, the car changes direction. You don't need to know the intricate mechanics behind this action; you just need to know that turning the wheel changes the car's direction.\n",
    "\n",
    "\n",
    "   Encapsulation:-\n",
    "-> Definition: Encapsulation is the bundling of data (attributes) and methods (functions) that operate on the data into a single unit, typically a class. It restricts direct access to some of an object's components, which is a means of preventing unintended interference and misuse of the data.\n",
    "The freeCodeCamp Forum\n",
    "\n",
    "-> Purpose: To protect the internal state of an object and ensure that its data is used only in intended ways.\n",
    "\n",
    "-> Implementation: Achieved by declaring class variables as private and providing public getter and setter methods to access and modify them.\n",
    "\n",
    "-> Example: Think of a capsule (medicine) that encapsulates the drug inside. The capsule protects the drug from the external environment and controls its release. Similarly, in programming, encapsulation hides the internal state of an object and requires all interaction to be performed through an object's methods.\n",
    "\n",
    "\n",
    "\n",
    "    Key Differences:-\n",
    "    \n",
    "Aspect\t                              Abstraction\t                                   Encapsulation\n",
    "Focus\t          Exposing essential features, hiding complexity\t Hiding internal state and requiring all interaction                                                                           to be performed through an object's methods\n",
    "\n",
    "Concerned with\t           Design level (what an object does)\t         Implementation level (how an object does it)\n",
    "\n",
    "Implementation\t             Abstract classes and interfaces\t         Access modifiers (private, public, protected)\n",
    "\n",
    "Purpose\t                       Simplify complex systems\t                    Protect object integrity by preventing                                                                                          unintended interference\n",
    "\n",
    "Example\t        Using a TV remote without knowing its internal circuitry\tPrivate variables with public getter and                                                                                            setter methods"
   ]
  },
  {
   "cell_type": "markdown",
   "id": "448c6b34-eac7-4358-af01-b2af803ef67e",
   "metadata": {},
   "source": [
    "5. What are dunder methods in Python?\n",
    "   -\n",
    "   In Python, dunder methods—short for \"double underscore\" methods—are special predefined methods that begin and end with double underscores (e.g., __init__, __str__, __add__). Also known as magic methods or special methods, they enable developers to define or customize the behavior of objects in response to built-in operations and functions. \n",
    "nitesh-yadav.medium.com\n",
    "\n",
    " What Are Dunder Methods?\n",
    "Dunder methods are invoked automatically by Python to perform specific operations. For instance, when you use the + operator to add two objects, Python internally calls the __add__ method. These methods allow your custom classes to integrate seamlessly with Python's syntax and built-in functions. \n",
    "Scaler\n",
    "+1\n",
    "tutorialsteacher.com\n",
    "+1\n",
    "DataCamp\n",
    "\n",
    " Common Dunder Methods\n",
    "Here's an overview of some frequently used dunder methods and their purposes:\n",
    "nitesh-yadav.medium.com\n",
    "+1\n",
    "CodingNomads | Learn to code, anywhere.\n",
    "+1\n",
    "\n",
    "__init__(self, ...): Constructor method called when an object is instantiated. It initializes the object's attributes.\n",
    "nitesh-yadav.medium.com\n",
    "\n",
    "__str__(self): Returns a human-readable string representation of the object, used by the str() function and print().\n",
    "nitesh-yadav.medium.com\n",
    "\n",
    "__repr__(self): Returns an unambiguous string representation of the object, used by the repr() function and in the interactive interpreter.\n",
    "\n",
    "__len__(self): Returns the length of the object, used by the len() function.\n",
    "nitesh-yadav.medium.com\n",
    "\n",
    "__add__(self, other): Defines behavior for the addition operator +.\n",
    "\n",
    "__eq__(self, other): Defines behavior for the equality operator ==.\n",
    "\n",
    "__lt__(self, other): Defines behavior for the less-than operator <.\n",
    "\n",
    "__getitem__(self, key): Defines behavior for accessing items using square brackets [].\n",
    "\n",
    "__setitem__(self, key, value): Defines behavior for assigning values to items using square brackets.\n",
    "\n",
    "__call__(self, ...): Allows an instance of the class to be called as a function.\n",
    "DataCamp\n",
    "+1\n",
    "tutorialsteacher.com\n",
    "+1\n",
    "\n",
    "__enter__(self) and __exit__(self, exc_type, exc_value, traceback): Define behavior for context managers, enabling the use of the with statement.\n",
    "DataCamp\n",
    "+3\n",
    "nitesh-yadav.medium.com\n",
    "+3\n",
    "GeeksforGeeks\n",
    "+3\n",
    "\n",
    "Implementing these methods allows your objects to behave like built-in types, supporting operations such as iteration, arithmetic, and context management."
   ]
  },
  {
   "cell_type": "markdown",
   "id": "6527850a-87a6-4401-8f4c-9ca7f7fe5717",
   "metadata": {},
   "source": [
    "6. Explain the concept of inheritance in OOP.\n",
    "   -\n",
    "   In object-oriented programming (OOP), inheritance is a fundamental concept that allows a class (known as a child or subclass) to acquire properties and behaviors (methods) from another class (known as a parent, superclass, or base class). This mechanism promotes code reusability and establishes a hierarchical relationship between classes.\n",
    "\n",
    "-> Key Concepts:\n",
    "a. Superclass (Parent Class): The class whose attributes and methods are inherited.\n",
    "\n",
    "b. Subclass (Child Class): The class that inherits from the superclass and can have additional attributes and methods or override existing ones.\n",
    "\n",
    "Inheritance enables the creation of a class hierarchy, where more specific classes derive from more general ones, facilitating organized and modular code.\n",
    "\n",
    "-> Types of Inheritance:\n",
    "a. Single Inheritance: A subclass inherits from one superclass.\n",
    "\n",
    "b. Multiple Inheritance: A subclass inherits from more than one superclass.\n",
    "\n",
    "c. Multilevel Inheritance: A subclass inherits from a superclass, and another subclass inherits from that subclass, forming a chain.\n",
    "\n",
    "d. Hierarchical Inheritance: Multiple subclasses inherit from a single superclass.\n",
    "\n",
    "e. Hybrid Inheritance: A combination of two or more types of inheritance.\n",
    "\n",
    "Different programming languages support different types of inheritance. For example, Python supports multiple inheritance, while Java supports single inheritance but allows multiple inheritances through interfaces.\n",
    "\n",
    "->Benefits of Inheritance\n",
    "a. Code Reusability: Common functionality can be written in the superclass and reused in subclasses.\n",
    "\n",
    "b. Extensibility: New features can be added to existing code without modifying it, by creating new subclasses.\n",
    "\n",
    "c. Maintainability: Changes made to the superclass automatically propagate to subclasses, reducing redundancy.\n",
    "\n",
    "d. Polymorphism: Subclasses can be treated as instances of their superclass, allowing for flexible and interchangeable code components."
   ]
  },
  {
   "cell_type": "markdown",
   "id": "a2b7fa5a-3928-498d-8514-c459a8c32ba8",
   "metadata": {},
   "source": [
    "7.  What is polymorphism in OOP?\n",
    "    -\n",
    "    In object-oriented programming (OOP), polymorphism is a fundamental concept that allows objects of different classes to be treated as objects of a common superclass. It enables a single interface to represent different underlying data types, allowing for flexible and reusable code.\n",
    "\n",
    "-> What Is Polymorphism?\n",
    "The term polymorphism is derived from Greek, meaning \"many forms.\" In OOP, it refers to the ability of different classes to respond to the same method call in different ways. This means that a single function or method can operate on objects of different classes, and each class can provide its own implementation of the method.\n",
    "GeeksforGeeks\n",
    "\n",
    "-> Types of Polymorphism\n",
    "a. Compile-Time Polymorphism (Static Binding)\n",
    "\n",
    "Method Overloading: Defining multiple methods with the same name but different parameters within the same class.\n",
    "Wikipedia\n",
    "\n",
    "Operator Overloading: Defining custom behavior for standard operators (e.g., +, -) for user-defined classes.\n",
    "\n",
    "b. Run-Time Polymorphism (Dynamic Binding)\n",
    "\n",
    "Method Overriding: A subclass provides a specific implementation of a method that is already defined in its superclass.\n",
    "\n",
    " ->Benefits of Polymorphism\n",
    "a. Flexibility: Code can work with objects of different classes that share the same interface.\n",
    "\n",
    "b. Reusability: Common interfaces can be reused across different classes.\n",
    "Wikipedia\n",
    "\n",
    "c. Maintainability: Adding new classes with specific implementations doesn't require changing existing code that uses the common interface.\n",
    "\n",
    "-> Real-World Analogy:\n",
    "Consider a universal remote control that can operate various devices like TVs, DVD players, and sound systems. Pressing the \"power\" button sends a signal, but each device responds differently: the TV turns on, the DVD player starts up, and the sound system powers up. The remote provides a common interface, but each device has its own implementation of the \"power\" function."
   ]
  },
  {
   "cell_type": "markdown",
   "id": "eb0c65ed-d229-4ee4-837b-7963bdf1f407",
   "metadata": {},
   "source": [
    "8.  How is encapsulation achieved in Python?\n",
    "    -\n",
    "    In Python, encapsulation is a fundamental principle of object-oriented programming that involves bundling data (attributes) and methods (functions) within a class, while restricting direct access to some of the object's components. This mechanism helps in preventing unintended interference and misuse of the data.\n",
    "\n",
    "-> How Encapsulation Works in Python\n",
    "Python achieves encapsulation through the use of access modifiers, which determine the accessibility of class members:\n",
    "\n",
    "a. Public Members:\n",
    "Accessible from anywhere in the program.\n",
    "By default, all class members are public\n",
    "\n",
    "b. Public Members:\n",
    "Accessible from anywhere in the program.\n",
    "By default, all class members are public.\n",
    "\n",
    "c. Private Members:\n",
    "Accessible only within the class where they are defined.\n",
    "Denoted by a double underscore prefix (__)\n",
    "\n",
    "->  Accessing Private Members\n",
    "While private members are not accessible directly, Python provides mechanisms to access them when necessary:\n",
    "a. Getter and Setter Methods:\n",
    "Used to retrieve and modify private attributes.\n",
    "\n",
    "b. Property Decorators:\n",
    "Provide a Pythonic way to use getters and setters.\n",
    "\n",
    "c. Name Mangling:\n",
    "Python internally changes the name of private variables to include the class name.\n",
    "This can be used to access private variables, though it's generally discouraged.\n",
    "\n",
    "Benefits of Encapsulation:-\n",
    "\n",
    "->Data Protection: Prevents external code from directly modifying internal states, reducing the risk of unintended side effects.\n",
    "->Modularity: Encourages separation of concerns, making code more organized and manageable.\n",
    "->Maintainability: Changes to the internal implementation can be made with minimal impact on external code.\n",
    "->Reusability: Encapsulated code can be reused across different parts of a program or in different projects.\n",
    "\n",
    "By adhering to encapsulation principles, Python developers can create robust and maintainable codebases that are easier to understand and extend."
   ]
  },
  {
   "cell_type": "markdown",
   "id": "2ad8bb3a-95bb-4fcb-a20c-19e4a10bb0a8",
   "metadata": {},
   "source": [
    "9.  What is a constructor in Python?\n",
    "    -\n",
    "    In Python, a constructor is a special method used to initialize a newly created object. This is achieved through the __init__ method, which is automatically invoked when an object is instantiated from a class.\n",
    "    \n",
    "->What Is __init__?\n",
    "The __init__ method in Python is analogous to constructors in other object-oriented languages like Java or C++. It allows you to set initial values for the object's attributes and perform any setup procedures necessary when the object is created. This method is always called when a new object is instantiated.\n",
    "\n",
    "-> Key Characteristics of __init__\n",
    "a. Automatic Invocation: The __init__ method is automatically called immediately after the object is created.\n",
    "b. Initialization: It's primarily used to initialize the object's attributes with specific values.\n",
    "c. No Return Value: Unlike regular methods, __init__ doesn't return any value; it must return None.\n",
    "\n",
    "-> Difference Between __init__ and __new__\n",
    "While __init__ initializes a newly created object, the __new__ method is responsible for creating the object itself. In most cases, you only need to define __init__. However, if you're working with immutable objects or need to customize object creation, you might override __new__.\n",
    "\n",
    "-> Benefits of Using __init__\n",
    "a. Encapsulation: Encapsulates initialization logic within the class.\n",
    "\n",
    "b. Code Clarity: Makes the code more readable and organized by clearly defining how objects are initialized.\n",
    "\n",
    "c. Flexibility: Allows for different initialization scenarios by accepting parameters.\n",
    "\n",
    "In summary, the __init__ method in Python serves as the constructor, enabling the initialization of object attributes and the execution of any setup procedures required when an object is created."
   ]
  },
  {
   "cell_type": "markdown",
   "id": "3d73a0e5-55ad-4d82-a873-b3a5680befb5",
   "metadata": {},
   "source": [
    "10. What are class and static methods in Python?\n",
    "    -\n",
    "    In Python, class methods and static methods are specialized methods within a class, each serving distinct purposes and behaviors.\n",
    "\n",
    "-> Class Methods (@classmethod)\n",
    "-Definition: A class method is bound to the class and not the instance of the class. It takes cls as its first parameter, which refers to the class itself.\n",
    "\n",
    "-Access: Can access and modify class state that applies across all instances of the class.\n",
    "\n",
    "-Use Cases:\n",
    "\n",
    "   ->Creating factory methods that return class objects for different use cases.\n",
    "\n",
    "   ->Modifying class-level attributes.\n",
    "\n",
    "\n",
    "->   Static Methods (@staticmethod)\n",
    "-Definition: A static method does not receive an implicit first argument (like self or cls). It behaves like a plain function but resides in the class's namespace.\n",
    "\n",
    "-Access: Cannot access or modify the class or instance state.\n",
    "\n",
    "-Use Cases:\n",
    "\n",
    "   ->Utility functions that perform a task in isolation.\n",
    "\n",
    "   ->Grouping functions which have some logical connection with a class to the class."
   ]
  },
  {
   "cell_type": "markdown",
   "id": "ee68c311-b452-4763-bea5-a6b916ded07f",
   "metadata": {},
   "source": [
    "11. What is method overloading in Python?\n",
    "    -\n",
    "    In Python, method overloading refers to the ability to define a method in such a way that it can handle different numbers or types of arguments. Unlike some other languages like Java or C++, Python does not support traditional method overloading where multiple methods with the same name but different signatures can coexist in the same class. In Python, if multiple methods with the same name are defined in a class, the last one defined will override the previous definitions.\n",
    "\n",
    "-> Simulating Method Overloading in Python\n",
    "Although Python doesn't support method overloading directly, similar behavior can be achieved using default arguments, variable-length arguments (*args and **kwargs), and type checking within a single method definition.\n",
    "\n",
    "  a. Using Default Arguments\n",
    "By providing default values for parameters, a method can be called with varying numbers of arguments.\n",
    "  b. Using Variable-Length Arguments\n",
    "The *args and **kwargs syntax allows a method to accept an arbitrary number of positional and keyword arguments.\n",
    "  c.  Using Type Checking\n",
    "Type checking within the method can be used to perform different operations based on the types of the arguments passed.\n",
    "\n",
    "-> Using External Libraries for Multiple Dispatch\n",
    "For more advanced use cases, external libraries like multipledispatch or functools.singledispatch can be used to achieve function overloading based on argument types.\n",
    "\n",
    "- Conclusion:\n",
    "While Python doesn't natively support method overloading as seen in some other languages, it provides flexible tools like default arguments, variable-length arguments, and type checking to achieve similar functionality. For more structured overloading based on argument types, external libraries like functools.singledispatch can be utilized.\n",
    "\n",
    "Understanding these techniques allows Python developers to write more adaptable and maintainable code."
   ]
  },
  {
   "cell_type": "markdown",
   "id": "d5c4d802-beb1-4a57-9658-d413328f09d6",
   "metadata": {},
   "source": [
    "12. What is method overriding in OOP?\n",
    "    -\n",
    "    In object-oriented programming (OOP), method overriding allows a subclass to provide a specific implementation of a method that is already defined in its superclass. This mechanism enables a subclass to modify or extend the behavior of that method to suit its own needs.\n",
    "\n",
    " - What Is Method Overriding?\n",
    "Method overriding occurs when a subclass defines a method with the same name, parameters, and return type as a method in its superclass. The overridden method in the subclass replaces the implementation of the superclass's method when invoked on an instance of the subclass. This feature is fundamental to achieving polymorphism in OOP, allowing objects to behave differently based on their actual class types.\n",
    "\n",
    " - Key Characteristics:\n",
    "\n",
    " ->Same Method Signature: The method in the subclass must have the same name and parameters as the method in the superclass.\n",
    " ->Inheritance: Overriding is only possible through inheritance; the subclass inherits from the superclass.\n",
    " ->Runtime Polymorphism: The decision about which method to invoke is made at runtime based on the object's actual class.\n",
    " ->Access to Superclass Method: The subclass can invoke the superclass's version of the method using a special keyword (e.g., super in Python).\n",
    "\n",
    " -> Method Overriding in Python\n",
    "In Python, method overriding is straightforward due to its dynamic nature.\n",
    "\n",
    " -> Accessing the Superclass Method\n",
    "If the subclass needs to extend the behavior of the superclass method rather than completely replace it, it can call the superclass's method within its own implementation.\n",
    "\n",
    " -> Benefits of Method Overriding\n",
    "Custom Behavior: Allows subclasses to provide specific implementations for methods, tailoring behavior as needed.\n",
    "\n",
    " - Polymorphism: Enables objects to be treated as instances of their superclass while exhibiting subclass-specific behavior.\n",
    " - Code Reusability: Promotes the reuse of existing code by allowing subclasses to modify only the necessary parts.\n",
    " - Maintainability: Enhances code organization and readability by keeping related behaviors within appropriate classes.\n",
    "\n",
    "In summary, method overriding is a powerful feature in OOP that allows subclasses to modify or extend the behavior of methods defined in their superclasses. This capability is essential for achieving polymorphism and creating flexible, maintainable code structures."
   ]
  },
  {
   "cell_type": "markdown",
   "id": "efdeacca-ae1b-4213-9857-4d2c324ec0e2",
   "metadata": {},
   "source": [
    "13. What is a property decorator in Python?\n",
    "    -\n",
    "    In Python, the @property decorator is a built-in feature that allows you to define methods in a class that can be accessed like attributes. This provides a Pythonic way to manage attribute access, enabling encapsulation and data validation while maintaining a clean and intuitive interface.\n",
    "\n",
    " -  Purpose of @property\n",
    "The @property decorator is used to create managed attributes in classes. It allows you to define methods that can be accessed like attributes, providing a way to add logic to attribute access without changing the external interface of the class.\n",
    "\n",
    " -> Advantages of Using @property\n",
    " - Encapsulation: Allows internal implementation details to be hidden while exposing a simple interface.\n",
    " - Data Validation: Enables validation logic during attribute assignment.\n",
    " - Read-Only Attributes: By defining only a getter, you can create read-only attributes.\n",
    " - Backward Compatibility: Allows changing methods to properties without altering the external interface.\n",
    "\n",
    " -> When to Use @property\n",
    " Use the @property decorator when:\n",
    "\n",
    " - You need to control access to an attribute.\n",
    " - Python Tutorials – Real Python\n",
    " - You want to add logic during attribute access or assignment.\n",
    " - You aim to maintain a clean and intuitive class interface.\n",
    "\n",
    "However, avoid using @property for methods that perform significant computations or have side effects, as it can lead to unexpected behavior."
   ]
  },
  {
   "cell_type": "markdown",
   "id": "0d6132f0-c5b6-4239-925b-0cba1174a29a",
   "metadata": {},
   "source": [
    "14. Why is polymorphism important in OOP?\n",
    "    -\n",
    "    Polymorphism is a fundamental concept in object-oriented programming (OOP) that enables objects of different classes to be treated as instances of a common superclass. This allows for the design of flexible and extensible code.\n",
    "\n",
    " -> What Is Polymorphism?\n",
    "Polymorphism allows a single interface to represent different underlying data types. In OOP, this means that a base class reference can point to objects of derived classes, and the correct method implementation is determined at runtime. This behavior is often achieved through method overriding, where subclasses provide specific implementations of methods defined in the base class.\n",
    " ->Importance of Polymorphism in OOP:\n",
    " \n",
    " - Code Reusability and Extensibility: Polymorphism promotes code reuse by allowing the same interface to work with different underlying forms (data types). This makes it easier to extend existing code without modifying it, adhering to the Open/Closed Principle.\n",
    " - Simplified Code Maintenance: By using polymorphism, developers can write more generic and maintainable code. For instance, a function can operate on objects of different classes as long as they share the same interface, reducing code duplication.\n",
    " - Enhanced Flexibility and Scalability: Polymorphism allows for the design of systems that can handle new requirements with minimal changes. New classes can be introduced with specific behaviors without altering existing code that uses the base class interface.\n",
    " - Improved Readability and Organization: It helps in organizing code logically by separating behaviors into different classes that share a common interface, making the codebase more understandable."
   ]
  },
  {
   "cell_type": "markdown",
   "id": "4e4d1c1f-d57e-446b-9596-af14ce3002eb",
   "metadata": {},
   "source": [
    "15. What is an abstract class in Python?\n",
    "    -\n",
    "    In Python, an abstract class serves as a blueprint for other classes, allowing you to define methods that must be implemented by any subclass. This enforces a consistent interface across different implementations and promotes code reusability and maintainability.\n",
    "\n",
    "-> What Is an Abstract Class?\n",
    "An abstract class is a class that cannot be instantiated on its own and is designed to be subclassed. It may contain abstract methods—methods declared but not implemented—that define a common interface for its subclasses. These subclasses are required to provide concrete implementations for all abstract methods to be instantiable.\n",
    "\n",
    "-> How to Define an Abstract Class in Python:-\n",
    "\n",
    "Python provides the abc (Abstract Base Classes) module to define abstract classes. To create an abstract class:\n",
    " - Import ABC and abstractmethod from the abc module.\n",
    " - Inherit from the ABC class.\n",
    " - Use the @abstractmethod decorator to declare abstract methods.\n",
    "\n",
    "-> Why Use Abstract Classes?\n",
    "\n",
    " - Enforce Method Implementation: Ensure that all subclasses implement specific methods, maintaining a consistent interface.\n",
    " - Promote Code Reusability: Define common behavior in the abstract class that can be shared among subclasses.\n",
    " - Facilitate Polymorphism: Allow different subclasses to be treated uniformly through the common interface defined by the abstract class.\n",
    "\n",
    "-> Important Notes:\n",
    " - An abstract class can contain both abstract methods (without implementation) and concrete methods (with implementation).\n",
    " - If a subclass does not implement all abstract methods of its abstract superclass, it remains abstract and cannot be instantiated.\n",
    " - Abstract classes are particularly useful when you have a set of classes that should share a common interface or behavior but may have different implementations."
   ]
  },
  {
   "cell_type": "markdown",
   "id": "e987fd1d-ab51-49a7-9a7d-51c54d577fda",
   "metadata": {},
   "source": [
    "16.  What are the advantages of OOP?\n",
    "     -\n",
    "     Object-Oriented Programming (OOP) offers a structured approach to software development, emphasizing modularity, reusability, and scalability. By organizing code around objects—instances of classes—OOP facilitates the creation of complex applications that are easier to manage and extend.\n",
    "\n",
    " -> Key Advantages of OOP:\n",
    " \n",
    " - Modularity and Encapsulation\n",
    "OOP promotes modular design by encapsulating data and functions within classes. This encapsulation ensures that internal object details are hidden from the outside, allowing developers to modify parts of the code without affecting other components. Such modularity simplifies debugging and maintenance, as issues can be isolated within specific classes or objects.\n",
    "\n",
    " - Code Reusability through Inheritance\n",
    "Inheritance enables new classes to adopt properties and behaviors from existing ones, reducing redundancy. For instance, a base class Vehicle can be extended by subclasses like Car or Bike, inheriting common attributes while introducing specific features.\n",
    "\n",
    " - Flexibility via Polymorphism\n",
    "Polymorphism allows objects of different classes to be treated uniformly based on shared interfaces or parent classes. This means a single function can operate on objects of various types, enhancing code flexibility and scalability.\n",
    "\n",
    " - Improved Maintainability and Scalability\n",
    "The modular nature of OOP makes it easier to update and scale applications. Developers can add new features or modify existing ones with minimal impact on the overall system, ensuring that applications can evolve over time.\n",
    "\n",
    " - Enhanced Collaboration\n",
    "By dividing a software system into discrete objects, OOP facilitates collaborative development. Teams can work on different classes or modules simultaneously, streamlining the development process and reducing integration issues.\n",
    "\n",
    " - Real-World Modeling\n",
    "OOP aligns closely with real-world concepts by modeling entities as objects with attributes and behaviors. This intuitive mapping aids in understanding, designing, and communicating software structures, especially in domains like AI and data analytics."
   ]
  },
  {
   "cell_type": "markdown",
   "id": "e11ee1ff-f8d5-4c91-b305-b471c9c62a9f",
   "metadata": {},
   "source": [
    "17. What is the difference between a class variable and an instance variable?\n",
    "    -\n",
    "    In Python, understanding the distinction between class variables and instance variables is crucial for effective object-oriented programming.\n",
    "\n",
    "-> Class Variables\n",
    " - Definition: Variables shared across all instances of a class.\n",
    " - Declaration: Defined within the class body but outside any instance methods.\n",
    " - Usage: Suitable for storing data common to all instances, such as constants or default values.\n",
    " - Access: Accessible via the class name or any instance.\n",
    "\n",
    "-> Instance Variables\n",
    " - Definition: Variables unique to each instance of a class.\n",
    " - Declaration: Defined within instance methods, typically within the __init__ constructor, using self.\n",
    " - Usage: Used to store data specific to each object instance.\n",
    " - Access: Accessed via the instance (self.variable_name).\n",
    "\n",
    "    Feature                        Class Variable                             Instance Variable                          \n",
    "    Scope                    Shared across all instances                   Unique to each instance                                                                                                                                \n",
    " Declaration                Inside class, outside methods              Inside instance methods (e.g., `__init__`)                                                                                                                 \n",
    " Access via                   Class name or instance                    Instance (`self.variable_name`)                                                                                                                           \n",
    " Use case                 Constants, default values, shared data           Object-specific data                                                                                                                                      \n",
    " Memory allocation          Single copy for all instances                Separate copy for each instance\n",
    "\n",
    "\n",
    " -> When to Use Each:\n",
    " - Class Variables: Ideal for data that should be consistent across all instances, such as configuration settings or constants.\n",
    " - Instance Variables: Best for data that varies between instances, like user information or object-specific attributes."
   ]
  },
  {
   "cell_type": "markdown",
   "id": "befd1fe5-d6b0-407d-9680-5f241ed86248",
   "metadata": {},
   "source": [
    "18. What is multiple inheritance in Python?\n",
    "    -\n",
    "    In Python, multiple inheritance allows a class to inherit attributes and methods from more than one parent class. This feature enables the creation of classes that combine functionalities from multiple sources, promoting code reusability and modular design.\n",
    "\n",
    "-> Understanding Multiple Inheritance:\n",
    "Definition: Multiple inheritance occurs when a class is derived from more than one base class.\n",
    "\n",
    "-> The Diamond Problem:\n",
    "A common challenge in multiple inheritance is the diamond problem, which arises when a class inherits from two classes that both inherit from a common superclass.\n",
    "\n",
    "-> Python's Solution: Method Resolution Order (MRO):\n",
    "Python addresses the diamond problem using the Method Resolution Order (MRO), which determines the sequence in which base classes are searched when executing a method. Python employs the C3 linearization algorithm to compute the MRO, ensuring a consistent and predictable method lookup order.\n",
    "\n",
    "->  Benefits of Multiple Inheritance:\n",
    "Code Reusability: Combine functionalities from multiple classes without redundant code.\n",
    "Modularity: Design classes with specific behaviors that can be mixed as needed.\n",
    "Flexibility: Create complex class hierarchies that model real-world relationships more accurately.\n",
    "\n",
    "->  Considerations:\n",
    "Complexity: Multiple inheritance can lead to intricate class hierarchies that are hard to manage.\n",
    "Ambiguity: Method conflicts may arise if multiple base classes implement methods with the same name.\n",
    "Maintenance: Understanding and debugging multiple inheritance hierarchies can be challenging."
   ]
  },
  {
   "cell_type": "markdown",
   "id": "8314c1d8-9029-46dc-8575-afa5576a8b85",
   "metadata": {},
   "source": [
    "19. Explain the purpose of ‘’__str__’ and ‘__repr__’ ‘ methods in Python?\n",
    "    -\n",
    "    In Python, the __str__ and __repr__ methods are special functions that define how objects are represented as strings. While they might seem similar, they serve distinct purposes and are used in different contexts.\n",
    "\n",
    "->  __str__: User-Friendly String Representation\n",
    "Purpose: Provides a readable and informal string representation of an object, suitable for end-users.\n",
    "Usage: Invoked by the str() function and the print() statement.\n",
    "Goal: Return a string that is easy to read and understand.\n",
    "\n",
    "->  __repr__: Developer-Oriented String Representation\n",
    "Purpose: Offers an unambiguous and detailed string representation of an object, primarily for debugging and development.\n",
    "Usage: Called by the repr() function and when inspecting objects in the interactive interpreter.\n",
    "Goal: Return a string that, ideally, could be used to recreate the object using eval().\n",
    "\n",
    "Aspect             `__str__`                                            `__repr__`                                      Audience           End-users                                            Developers                                         Purpose            Readable and informal representation                 Unambiguous and detailed representation         \n",
    "Invocation        `str()`, `print()`                                   `repr()`, interactive interpreter                  \n",
    "Fallback Behavior  If `__str__` is not defined, Python uses `__repr__`  If `__repr__` is not defined, Python provides a                                                                              default implementation \n",
    "\n",
    "  -> Best Practices:\n",
    " - Implement both __str__ and __repr__ methods to provide appropriate string representations for different contexts.\n",
    " - Ensure that __repr__ returns a string that includes all necessary information to understand the object's state, aiding     in debugging.\n",
    " - Use __str__ to return a user-friendly string that is suitable for display to end-users."
   ]
  },
  {
   "cell_type": "markdown",
   "id": "5d78fa4c-adbe-4eb8-86c6-3f3c65c11fcf",
   "metadata": {},
   "source": [
    "20. What is the significance of the ‘super()’ function in Python?\n",
    "    -\n",
    "    In Python, the super() function is a built-in feature that provides a mechanism to refer to the parent class, allowing you to call its methods and constructors from a subclass. This is particularly useful in object-oriented programming to ensure that the base class's initialization and methods are appropriately invoked, promoting code reusability and maintainability.\n",
    "\n",
    "-> Purpose of super():\n",
    " - Accessing Parent Class Methods: super() enables a subclass to call methods defined in its parent class without       explicitly naming it. This is beneficial when the parent class's implementation might change, as it avoids hardcoding the class name.\n",
    " - Facilitating Multiple Inheritance: In scenarios involving multiple inheritance, super() ensures that the method resolution order (MRO) is followed correctly, allowing each parent class to be initialized properly.\n",
    " - Enhancing Code Maintainability: By using super(), changes in the parent class's method names or parameters require minimal updates in subclasses, as there's no need to modify hardcoded class references.\n",
    "\n",
    "-> Benefits of Using super():\n",
    " - Avoids Hardcoding Parent Class Names: Enhances flexibility and reduces maintenance overhead.\n",
    " - Supports Cooperative Multiple Inheritance: Ensures that all parent classes are initialized appropriately.\n",
    " - Promotes DRY (Don't Repeat Yourself) Principle: Eliminates redundant code by reusing parent class methods."
   ]
  },
  {
   "cell_type": "markdown",
   "id": "3d050dfd-c62f-4a68-bb4e-a4d7392c013f",
   "metadata": {},
   "source": [
    "21. What is the significance of the __del__ method in Python?\n",
    "    -\n",
    "    In Python, the __del__ method is a special method known as a destructor or finalizer. It's invoked when an object is about to be destroyed, typically when its reference count drops to zero and the garbage collector reclaims its memory.\n",
    "\n",
    "-> Purpose of __del__ :\n",
    "The primary role of __del__ is to allow an object to perform clean-up actions before it's removed from memory. This can include tasks like:\n",
    " - Releasing external resources (e.g., closing files or network connections).\n",
    " - Logging object deletion for debugging purposes.\n",
    " - Notifying other components that the object is being destroyed.\n",
    "\n",
    "-> Important Considerations:\n",
    "While __del__ can be useful, there are several caveats to be aware of:\n",
    "\n",
    " - Non-Deterministic Invocation: The exact timing of __del__ execution is uncertain. In CPython, objects are usually destroyed immediately when their reference count drops to zero. However, in other Python implementations or in the presence of reference cycles, destruction may be delayed or might not occur at all. \n",
    " - Exceptions Are Suppressed: If an exception occurs within __del__, it's ignored and not propagated, which can make debugging challenging. \n",
    " - Resource Management Alternatives: For managing resources like files or network connections, it's recommended to use context managers (with statements) instead of relying on __del__. Context managers provide a more predictable and reliable way to ensure resources are released promptly.\n",
    "\n",
    "-> Best Practices:\n",
    " - Use Context Managers: Prefer context managers for resource management to ensure deterministic cleanup.\n",
    " - Avoid Complex Logic: Keep the __del__ method simple to minimize potential issues.\n",
    " - Be Cautious with Reference Cycles: Objects involved in reference cycles may not have their __del__ methods called, leading to resource leaks."
   ]
  },
  {
   "cell_type": "markdown",
   "id": "2bf97bc9-3c85-4f48-9703-d24419cee949",
   "metadata": {},
   "source": [
    "22. What is the difference between @staticmethod and @classmethod in Python?\n",
    "    -\n",
    "    In Python, both @staticmethod and @classmethod are decorators used to define methods within a class that are not bound to instance-level data. However, they serve different purposes and have distinct behaviors.\n",
    "\n",
    "-> @staticmethod:\n",
    " - Definition: A static method does not receive an implicit first argument (neither self nor cls).\n",
    " - Purpose: Used to define utility functions that perform a task in isolation, without needing access to class or instance data.\n",
    " - Access: Cannot access or modify class or instance variables.\n",
    " - Use Case: When a function logically belongs to a class but doesn't need to access or modify the class or instance state.\n",
    "\n",
    "-> @classmethod:\n",
    " - Definition: A class method receives the class (cls) as its first argument.\n",
    " - Purpose: Used to access or modify class state that applies across all instances.\n",
    " - Access: Can access and modify class variables but not instance variables.\n",
    " - Use Case: Commonly used for factory methods that instantiate instances using different parameters than those provided to the class constructor.\n",
    "\n",
    "\n",
    " Feature                 `@staticmethod`                   `@classmethod`\n",
    " First Parameter          None                             `cls` (the class)\n",
    " Access to Class Data     No                                Yes\n",
    " Access to Instance Data  No                                No\n",
    " Use Cases                Utility functions, helpers        Factory methods, class-level operations\n",
    " Can Modify Class State   No                                Yes\n",
    " Inheritance Behavior     Not inherently aware of subclass  Aware of subclass through `cls`"
   ]
  },
  {
   "cell_type": "markdown",
   "id": "7908ed48-5d01-4291-a9ca-880e553092c9",
   "metadata": {},
   "source": [
    "23. How does polymorphism work in Python with inheritance?\n",
    "    -\n",
    "    In Python, polymorphism allows objects of different classes to be treated as instances of the same class through a shared interface, typically established via inheritance. This enables the same method name to behave differently based on the object's class, promoting flexibility and code reusability.\n",
    "\n",
    " -> How Polymorphism Works with Inheritance:\n",
    "Polymorphism in Python is primarily achieved through method overriding in inheritance hierarchies. A base class defines a method, and derived classes can override this method to provide specialized behavior. When a method is called on an object, Python determines the appropriate method to execute based on the object's actual class at runtime.\n",
    "\n",
    " -> Benefits of Polymorphism in Python:\n",
    " - Code Reusability: Allows the use of a unified interface for different data types.\n",
    " - Flexibility: Enables writing more general and abstract code.\n",
    " - Maintainability: Simplifies code updates and enhancements by adhering to a common interface.\n",
    "By leveraging polymorphism through inheritance, Python developers can write more flexible and maintainable code that can handle new object types with minimal changes."
   ]
  },
  {
   "cell_type": "markdown",
   "id": "e122d907-d9fb-417d-8d95-a84a2869651e",
   "metadata": {},
   "source": [
    "24. What is method chaining in Python OOP?\n",
    "    -\n",
    "    In Python's object-oriented programming (OOP), method chaining is a technique that allows multiple method calls to be linked together in a single, fluent line of code. This approach enhances code readability and conciseness by eliminating the need for intermediate variables.\n",
    "\n",
    "-> What Is Method Chaining?\n",
    "Method chaining involves calling multiple methods sequentially on the same object. Each method performs an operation and returns the object itself (self), enabling the next method in the chain to be called.\n",
    "\n",
    "->  How It Works:\n",
    "For method chaining to function correctly, each method (except possibly the final one) must return the object instance (self). This practice is common in fluent interfaces and is prevalent in libraries like Pandas, where method chaining is used for data manipulation tasks.\n",
    "\n",
    "-> Benefits of Method Chaining:\n",
    " - Conciseness: Reduces the need for intermediate variables, leading to shorter code.\n",
    " - Readability: Presents a clear, linear flow of operations.\n",
    " - Maintainability: Simplifies updates and modifications by localizing related operations.\n",
    "\n",
    "-> Considerations:\n",
    " - Debugging Difficulty: Long chains can make it harder to identify where an error occurs.\n",
    " - Method Design: All methods in the chain must return self or a compatible object to continue the chain.\n",
    " - Overuse: Excessively long chains can reduce code clarity.\n",
    "\n",
    "Method chaining is a powerful technique in Python OOP that, when used judiciously, can lead to more elegant and maintainable code. It's particularly effective in scenarios requiring a sequence of operations on the same object."
   ]
  },
  {
   "cell_type": "markdown",
   "id": "362795c1-7dbc-46b5-b878-dfd6fd574998",
   "metadata": {},
   "source": [
    "25. What is the purpose of the __call__ method in Python?\n",
    "    -\n",
    "    In Python, the __call__ method is a special (or \"dunder\") method that allows an instance of a class to be invoked as if it were a regular function. This means that after defining a class with a __call__ method, you can create an instance of that class and then \"call\" the instance using parentheses, just like you would with a function.\n",
    "\n",
    " -> Purpose of __call__ :\n",
    "The primary purpose of the __call__ method is to make instances of a class callable. When you define __call__ in your class, you're enabling its instances to be used as functions. This can be particularly useful when you want objects to maintain state between calls or when implementing certain design patterns like decorators or function factories.\n",
    "\n",
    " -> How It Works:\n",
    "When you invoke an instance of a class (e.g., instance()), Python internally calls the instance's __call__ method.\n",
    "\n",
    " -  Practical Use Cases:\n",
    "a. Stateful Function Objects: You can use __call__ to create objects that behave like functions but also maintain internal state.\n",
    "b. Implementing Decorators: Classes with a __call__ method can be used as decorators to modify the behavior of functions.\n",
    "c. Function Factories: You can use __call__ to create objects that generate functions with specific behaviors based on input parameters.\n",
    "\n",
    " -> Summary:\n",
    "Function-like Behavior: The __call__ method allows class instances to be invoked as functions.\n",
    "State Maintenance: Callable objects can maintain internal state across invocations.\n",
    "Design Flexibility: Useful in implementing decorators, function factories, and other design patterns."
   ]
  },
  {
   "cell_type": "markdown",
   "id": "2ddcbc6d-9379-46cf-8bf3-bb69694d6af1",
   "metadata": {},
   "source": [
    "#PRACTICAL QUESTIONS :-"
   ]
  },
  {
   "cell_type": "markdown",
   "id": "ae6d70f1-e5b9-46e2-b4af-4ce22213863e",
   "metadata": {},
   "source": [
    "1. Create a parent class Animal with a method speak() that prints a generic message. Create a child class Dog that overrides the speak() method to print \"Bark!\"."
   ]
  },
  {
   "cell_type": "code",
   "execution_count": 30,
   "id": "9b6b7b75-6665-4a59-97ca-4c11a93d5faa",
   "metadata": {},
   "outputs": [],
   "source": [
    "class Animal:\n",
    "    def speak(self):\n",
    "        print(\"This animal makes a sound.\")\n",
    "\n",
    "class Dog(Animal):\n",
    "    def speak(self):\n",
    "        print(\"Bark!\")"
   ]
  },
  {
   "cell_type": "code",
   "execution_count": 32,
   "id": "09be0e48-57e3-4b17-81e9-4b59294c0762",
   "metadata": {},
   "outputs": [
    {
     "name": "stdout",
     "output_type": "stream",
     "text": [
      "This animal makes a sound.\n",
      "Bark!\n"
     ]
    }
   ],
   "source": [
    "generic_animal = Animal()\n",
    "generic_animal.speak() \n",
    "\n",
    "dog = Dog()\n",
    "dog.speak()             "
   ]
  },
  {
   "cell_type": "markdown",
   "id": "6954cd3e-4de3-419b-8da0-325715819459",
   "metadata": {},
   "source": [
    "2. Write a program to create an abstract class Shape with a method area(). Derive classes Circle and Rectangle\n",
    "from it and implement the area() method in both."
   ]
  },
  {
   "cell_type": "code",
   "execution_count": 34,
   "id": "2ad27133-616d-4d96-8afd-cb80b88c9cc6",
   "metadata": {},
   "outputs": [],
   "source": [
    "from abc import ABC, abstractmethod\n",
    "import math\n",
    "\n",
    "# Abstract base class\n",
    "class Shape(ABC):\n",
    "    @abstractmethod\n",
    "    def area(self):\n",
    "        pass\n",
    "\n",
    "# Circle subclass\n",
    "class Circle(Shape):\n",
    "    def __init__(self, radius):\n",
    "        self.radius = radius\n",
    "\n",
    "    def area(self):\n",
    "        return math.pi * self.radius ** 2\n",
    "\n",
    "# Rectangle subclass\n",
    "class Rectangle(Shape):\n",
    "    def __init__(self, width, height):\n",
    "        self.width = width\n",
    "        self.height = height\n",
    "\n",
    "    def area(self):\n",
    "        return self.width * self.height"
   ]
  },
  {
   "cell_type": "code",
   "execution_count": 36,
   "id": "cbb7243d-3ef0-42d6-897a-7dddeb732c02",
   "metadata": {},
   "outputs": [
    {
     "name": "stdout",
     "output_type": "stream",
     "text": [
      "Circle Area: 78.53981633974483\n",
      "Rectangle Area: 24\n"
     ]
    }
   ],
   "source": [
    "#EXAMPLE :-\n",
    "\n",
    "# Create instances of Circle and Rectangle\n",
    "circle = Circle(5)\n",
    "rectangle = Rectangle(4, 6)\n",
    "\n",
    "# Calculate and print areas\n",
    "print(\"Circle Area:\", circle.area())        \n",
    "print(\"Rectangle Area:\", rectangle.area())"
   ]
  },
  {
   "cell_type": "markdown",
   "id": "5e15ff84-9b70-4162-bd07-c1176cada581",
   "metadata": {},
   "source": [
    "3. Implement a multi-level inheritance scenario where a class Vehicle has an attribute type. Derive a class Car and further derive a class ElectricCar that adds a battery attribute."
   ]
  },
  {
   "cell_type": "code",
   "execution_count": 40,
   "id": "05d5c748-4963-4383-a790-c6ba8ccb477a",
   "metadata": {},
   "outputs": [
    {
     "name": "stdout",
     "output_type": "stream",
     "text": [
      "Vehicle Type: Electric Vehicle\n",
      "Car Brand: Tesla, Model: Model S\n",
      "Battery Capacity: 100 kWh\n"
     ]
    }
   ],
   "source": [
    "# Base class\n",
    "class Vehicle:\n",
    "    def __init__(self, vehicle_type):\n",
    "        self.type = vehicle_type\n",
    "\n",
    "    def display_type(self):\n",
    "        print(f\"Vehicle Type: {self.type}\")\n",
    "\n",
    "# Derived class\n",
    "class Car(Vehicle):\n",
    "    def __init__(self, vehicle_type, brand, model):\n",
    "        super().__init__(vehicle_type)\n",
    "        self.brand = brand\n",
    "        self.model = model\n",
    "\n",
    "    def display_info(self):\n",
    "        print(f\"Car Brand: {self.brand}, Model: {self.model}\")\n",
    "\n",
    "# Further derived class\n",
    "class ElectricCar(Car):\n",
    "    def __init__(self, vehicle_type, brand, model, battery_capacity):\n",
    "        super().__init__(vehicle_type, brand, model)\n",
    "        self.battery = battery_capacity\n",
    "\n",
    "    def display_battery(self):\n",
    "        print(f\"Battery Capacity: {self.battery} kWh\")\n",
    "\n",
    "# Example usage\n",
    "my_electric_car = ElectricCar(\"Electric Vehicle\", \"Tesla\", \"Model S\", 100)\n",
    "my_electric_car.display_type()\n",
    "my_electric_car.display_info()\n",
    "my_electric_car.display_battery()"
   ]
  },
  {
   "cell_type": "markdown",
   "id": "9ab51b0c-8a48-4351-aba4-5e93e354cd05",
   "metadata": {},
   "source": [
    "4. Demonstrate polymorphism by creating a base class Bird with a method fly(). Create two derived classes Sparrow and Penguin that override the fly() method."
   ]
  },
  {
   "cell_type": "code",
   "execution_count": 42,
   "id": "e1d6bdd9-09b9-474a-afd2-74eb8b191ef2",
   "metadata": {},
   "outputs": [
    {
     "name": "stdout",
     "output_type": "stream",
     "text": [
      "Sparrow is flying high!\n",
      "Penguins can't fly!\n"
     ]
    }
   ],
   "source": [
    "# Base class\n",
    "class Bird:\n",
    "    def fly(self):\n",
    "        return \"This bird can fly.\"\n",
    "\n",
    "# Derived class: Sparrow\n",
    "class Sparrow(Bird):\n",
    "    def fly(self):\n",
    "        return \"Sparrow is flying high!\"\n",
    "\n",
    "# Derived class: Penguin\n",
    "class Penguin(Bird):\n",
    "    def fly(self):\n",
    "        return \"Penguins can't fly!\"\n",
    "\n",
    "# Function to demonstrate polymorphism\n",
    "def demonstrate_flight(bird):\n",
    "    print(bird.fly())\n",
    "\n",
    "# Create instances\n",
    "sparrow = Sparrow()\n",
    "penguin = Penguin()\n",
    "\n",
    "# Demonstrate polymorphism\n",
    "demonstrate_flight(sparrow)  \n",
    "demonstrate_flight(penguin)"
   ]
  },
  {
   "cell_type": "markdown",
   "id": "a5d62e02-d91b-4cf8-9fba-8ce716822367",
   "metadata": {},
   "source": [
    "5. Write a program to demonstrate encapsulation by creating a class BankAccount with private attributes\n",
    "balance and methods to deposit, withdraw, and check balance."
   ]
  },
  {
   "cell_type": "code",
   "execution_count": 44,
   "id": "54f400cf-be7f-47b4-b7d5-9e00e683a3d2",
   "metadata": {},
   "outputs": [
    {
     "name": "stdout",
     "output_type": "stream",
     "text": [
      "Deposited: ₹500.00. New Balance: ₹1500.00\n",
      "Withdrew: ₹200.00. New Balance: ₹1300.00\n",
      "Final Balance: ₹1300.00\n"
     ]
    }
   ],
   "source": [
    "class BankAccount:\n",
    "    def __init__(self, initial_balance=0.0):\n",
    "        self.__balance = initial_balance  # Private attribute\n",
    "\n",
    "    def deposit(self, amount):\n",
    "        if amount > 0:\n",
    "            self.__balance += amount\n",
    "            print(f\"Deposited: ₹{amount:.2f}. New Balance: ₹{self.__balance:.2f}\")\n",
    "        else:\n",
    "            print(\"Deposit amount must be positive.\")\n",
    "\n",
    "    def withdraw(self, amount):\n",
    "        if 0 < amount <= self.__balance:\n",
    "            self.__balance -= amount\n",
    "            print(f\"Withdrew: ₹{amount:.2f}. New Balance: ₹{self.__balance:.2f}\")\n",
    "        else:\n",
    "            print(\"Invalid withdrawal amount or insufficient funds.\")\n",
    "\n",
    "    def get_balance(self):\n",
    "        return self.__balance\n",
    "\n",
    "# Example usage\n",
    "account = BankAccount(1000)\n",
    "account.deposit(500)\n",
    "account.withdraw(200)\n",
    "print(f\"Final Balance: ₹{account.get_balance():.2f}\")"
   ]
  },
  {
   "cell_type": "markdown",
   "id": "1f34caa7-b705-49cb-a877-435417208c68",
   "metadata": {},
   "source": [
    "6. Demonstrate runtime polymorphism using a method play() in a base class Instrument. Derive classes Guitar and Piano that implement their own version of play()."
   ]
  },
  {
   "cell_type": "code",
   "execution_count": 46,
   "id": "af9b5a96-48b0-42fe-8b30-e1c07f655430",
   "metadata": {},
   "outputs": [
    {
     "name": "stdout",
     "output_type": "stream",
     "text": [
      "Guitar is playing strum strum strum!\n",
      "Piano is playing plink plink plink!\n"
     ]
    }
   ],
   "source": [
    "# Base class\n",
    "class Instrument:\n",
    "    def play(self):\n",
    "        print(\"Instrument is playing.\")\n",
    "\n",
    "# Derived class: Guitar\n",
    "class Guitar(Instrument):\n",
    "    def play(self):\n",
    "        print(\"Guitar is playing strum strum strum!\")\n",
    "\n",
    "# Derived class: Piano\n",
    "class Piano(Instrument):\n",
    "    def play(self):\n",
    "        print(\"Piano is playing plink plink plink!\")\n",
    "\n",
    "# Function to demonstrate polymorphism\n",
    "def demonstrate_play(instrument):\n",
    "    instrument.play()\n",
    "\n",
    "# Create instances\n",
    "guitar = Guitar()\n",
    "piano = Piano()\n",
    "\n",
    "# Demonstrate polymorphism\n",
    "demonstrate_play(guitar) \n",
    "demonstrate_play(piano)  "
   ]
  },
  {
   "cell_type": "markdown",
   "id": "43da7dcc-a5c2-4322-bc8e-2dda48709c09",
   "metadata": {},
   "source": [
    "7. Create a class MathOperations with a class method add_numbers() to add two numbers and a static method subtract_numbers() to subtract two numbers."
   ]
  },
  {
   "cell_type": "code",
   "execution_count": 48,
   "id": "d24c0d4d-f313-410b-b530-2428309b3dcc",
   "metadata": {},
   "outputs": [
    {
     "name": "stdout",
     "output_type": "stream",
     "text": [
      "Sum: 15\n",
      "Difference: 5\n"
     ]
    }
   ],
   "source": [
    "class MathOperations:\n",
    "    @classmethod\n",
    "    def add_numbers(cls, x, y):\n",
    "        \"\"\"Class method to add two numbers.\"\"\"\n",
    "        return x + y\n",
    "\n",
    "    @staticmethod\n",
    "    def subtract_numbers(x, y):\n",
    "        \"\"\"Static method to subtract two numbers.\"\"\"\n",
    "        return x - y\n",
    "\n",
    "# Example usage\n",
    "sum_result = MathOperations.add_numbers(10, 5)\n",
    "difference_result = MathOperations.subtract_numbers(10, 5)\n",
    "\n",
    "print(f\"Sum: {sum_result}\")\n",
    "print(f\"Difference: {difference_result}\")"
   ]
  },
  {
   "cell_type": "markdown",
   "id": "35024419-5f63-4a90-8080-0ba475de9d61",
   "metadata": {},
   "source": [
    "8. Implement a class Person with a class method to count the total number of persons created."
   ]
  },
  {
   "cell_type": "code",
   "execution_count": 50,
   "id": "1cb9d8b6-756b-4627-b68f-7472e7f0631e",
   "metadata": {},
   "outputs": [
    {
     "name": "stdout",
     "output_type": "stream",
     "text": [
      "Total number of Person instances: 3\n"
     ]
    }
   ],
   "source": [
    "class Person:\n",
    "    # Class variable to keep track of the number of instances\n",
    "    instance_count = 0\n",
    "\n",
    "    def __init__(self, name, age):\n",
    "        self.name = name\n",
    "        self.age = age\n",
    "        # Increment the instance count each time a new object is created\n",
    "        Person.instance_count += 1\n",
    "\n",
    "    @classmethod\n",
    "    def get_instance_count(cls):\n",
    "        \"\"\"Class method to get the total number of Person instances.\"\"\"\n",
    "        return cls.instance_count\n",
    "\n",
    "# Example usage\n",
    "p1 = Person(\"Alice\", 30)\n",
    "p2 = Person(\"Bob\", 25)\n",
    "p3 = Person(\"Charlie\", 35)\n",
    "\n",
    "print(f\"Total number of Person instances: {Person.get_instance_count()}\")"
   ]
  },
  {
   "cell_type": "markdown",
   "id": "b7557061-22df-4517-9b42-f6cb1321b8e0",
   "metadata": {},
   "source": [
    "9. Write a class Fraction with attributes numerator and denominator. Override the str method to display the fraction as \"numerator/denominator\"."
   ]
  },
  {
   "cell_type": "code",
   "execution_count": 52,
   "id": "2ff870dc-b17c-4311-a00d-dfbf17a37286",
   "metadata": {},
   "outputs": [
    {
     "name": "stdout",
     "output_type": "stream",
     "text": [
      "1/2\n"
     ]
    }
   ],
   "source": [
    "import math\n",
    "\n",
    "class Fraction:\n",
    "    def __init__(self, numerator, denominator=1):\n",
    "        if denominator == 0:\n",
    "            raise ValueError(\"Denominator cannot be zero.\")\n",
    "        self.numerator = numerator\n",
    "        self.denominator = denominator\n",
    "        self._simplify()\n",
    "\n",
    "    def _simplify(self):\n",
    "        \"\"\"Simplify the fraction to its lowest terms.\"\"\"\n",
    "        gcd = math.gcd(self.numerator, self.denominator)\n",
    "        self.numerator //= gcd\n",
    "        self.denominator //= gcd\n",
    "\n",
    "    def __str__(self):\n",
    "        \"\"\"Return the string representation of the fraction.\"\"\"\n",
    "        return f\"{self.numerator}/{self.denominator}\"\n",
    "\n",
    "# Example usage\n",
    "fraction = Fraction(4, 8)\n",
    "print(fraction)"
   ]
  },
  {
   "cell_type": "markdown",
   "id": "0a1443d2-cea3-4b56-9fa1-a7627449a2b9",
   "metadata": {},
   "source": [
    "10. Demonstrate operator overloading by creating a class Vector and overriding the add method to add two vectors."
   ]
  },
  {
   "cell_type": "code",
   "execution_count": 54,
   "id": "330bb953-96c9-4bab-805e-31be71013106",
   "metadata": {},
   "outputs": [
    {
     "name": "stdout",
     "output_type": "stream",
     "text": [
      "Vector(4, 6)\n"
     ]
    }
   ],
   "source": [
    "class Vector:\n",
    "    def __init__(self, x, y):\n",
    "        self.x = x\n",
    "        self.y = y\n",
    "\n",
    "    def __add__(self, other):\n",
    "        \"\"\"Overload the + operator to add two vectors.\"\"\"\n",
    "        return Vector(self.x + other.x, self.y + other.y)\n",
    "\n",
    "    def __repr__(self):\n",
    "        return f\"Vector({self.x}, {self.y})\"\n",
    "\n",
    "# Example usage\n",
    "v1 = Vector(1, 2)\n",
    "v2 = Vector(3, 4)\n",
    "v3 = v1 + v2 \n",
    "print(v3)"
   ]
  },
  {
   "cell_type": "markdown",
   "id": "eebc71aa-43a5-45de-b55b-ea91261d66f4",
   "metadata": {},
   "source": [
    "11. Create a class Person with attributes name and age. Add a method greet() that prints \"Hello, my name is {name} and I am {age} years old.\""
   ]
  },
  {
   "cell_type": "code",
   "execution_count": 56,
   "id": "11705934-97fd-46e5-859c-d8bee010d1fe",
   "metadata": {},
   "outputs": [
    {
     "name": "stdout",
     "output_type": "stream",
     "text": [
      "Hello, my name is Alice and I am 30 years old.\n"
     ]
    }
   ],
   "source": [
    "class Person:\n",
    "    def __init__(self, name, age):\n",
    "        self.name = name\n",
    "        self.age = age\n",
    "\n",
    "    def greet(self):\n",
    "        print(f\"Hello, my name is {self.name} and I am {self.age} years old.\")\n",
    "\n",
    "# Example usage\n",
    "person = Person(\"Alice\", 30)\n",
    "person.greet()"
   ]
  },
  {
   "cell_type": "markdown",
   "id": "835b3e1e-d0e5-4d29-91a6-33c9afeaa6be",
   "metadata": {},
   "source": [
    "12. Implement a class Student with attributes name and grades. Create a method average_grade() to compute the average of the grades."
   ]
  },
  {
   "cell_type": "code",
   "execution_count": 58,
   "id": "b95e9090-bf46-4c67-b1b2-1f2fd4bea3dd",
   "metadata": {},
   "outputs": [
    {
     "name": "stdout",
     "output_type": "stream",
     "text": [
      "Alice's average grade is: 86.25\n"
     ]
    }
   ],
   "source": [
    "class Student:\n",
    "    def __init__(self, name, grades):\n",
    "        self.name = name\n",
    "        self.grades = grades  \n",
    "\n",
    "    def average_grade(self):\n",
    "        if not self.grades:\n",
    "            return 0  \n",
    "        return sum(self.grades) / len(self.grades)\n",
    "\n",
    "# Example usage\n",
    "student1 = Student(\"Alice\", [85, 90, 78, 92])\n",
    "average = student1.average_grade()\n",
    "print(f\"{student1.name}'s average grade is: {average:.2f}\")"
   ]
  },
  {
   "cell_type": "markdown",
   "id": "80a5fe63-d36a-43ba-a525-7686bed67954",
   "metadata": {},
   "source": [
    "13. Create a class Rectangle with methods set_dimensions() to set the dimensions and area() to calculate the  area."
   ]
  },
  {
   "cell_type": "code",
   "execution_count": 60,
   "id": "c55cf9cc-09d0-4544-8137-df11eb05ef51",
   "metadata": {},
   "outputs": [
    {
     "name": "stdout",
     "output_type": "stream",
     "text": [
      "The area of the rectangle is: 50 square units.\n"
     ]
    }
   ],
   "source": [
    "class Rectangle:\n",
    "    def __init__(self):\n",
    "        self.length = 0\n",
    "        self.width = 0\n",
    "\n",
    "    def set_dimensions(self, length, width):\n",
    "        \"\"\"Set the dimensions of the rectangle.\"\"\"\n",
    "        self.length = length\n",
    "        self.width = width\n",
    "\n",
    "    def area(self):\n",
    "        \"\"\"Calculate and return the area of the rectangle.\"\"\"\n",
    "        return self.length * self.width\n",
    "\n",
    "# Example usage\n",
    "rect = Rectangle()\n",
    "rect.set_dimensions(10, 5)\n",
    "print(f\"The area of the rectangle is: {rect.area()} square units.\")"
   ]
  },
  {
   "cell_type": "markdown",
   "id": "ea3365e5-6e3e-4348-b34a-7d8c015c2a78",
   "metadata": {},
   "source": [
    "14. Create a class Employee with a method calculate_salary() that computes the salary based on hours worked and hourly rate. Create a derived class Manager that adds a bonus to the salary."
   ]
  },
  {
   "cell_type": "code",
   "execution_count": 62,
   "id": "6b6bca46-cc3b-488a-8c68-ba584d7a627e",
   "metadata": {},
   "outputs": [
    {
     "name": "stdout",
     "output_type": "stream",
     "text": [
      "Alice's salary for 45 hours is: $950.00\n",
      "Bob's salary for 50 hours (including bonus) is: $2150.00\n"
     ]
    }
   ],
   "source": [
    "class Employee:\n",
    "    def __init__(self, name, hourly_rate):\n",
    "        self.name = name\n",
    "        self.hourly_rate = hourly_rate\n",
    "\n",
    "    def calculate_salary(self, hours_worked):\n",
    "        \"\"\"\n",
    "        Calculate salary based on hours worked.\n",
    "        Overtime (hours > 40) is paid at 1.5 times the hourly rate.\n",
    "        \"\"\"\n",
    "        if hours_worked <= 40:\n",
    "            salary = self.hourly_rate * hours_worked\n",
    "        else:\n",
    "            regular_pay = self.hourly_rate * 40\n",
    "            overtime_hours = hours_worked - 40\n",
    "            overtime_pay = overtime_hours * self.hourly_rate * 1.5\n",
    "            salary = regular_pay + overtime_pay\n",
    "        return salary\n",
    "\n",
    "class Manager(Employee):\n",
    "    def __init__(self, name, hourly_rate, bonus):\n",
    "        super().__init__(name, hourly_rate)\n",
    "        self.bonus = bonus\n",
    "\n",
    "    def calculate_salary(self, hours_worked):\n",
    "        \"\"\"\n",
    "        Calculate salary including bonus.\n",
    "        \"\"\"\n",
    "        base_salary = super().calculate_salary(hours_worked)\n",
    "        total_salary = base_salary + self.bonus\n",
    "        return total_salary\n",
    "\n",
    "# Example usage\n",
    "if __name__ == \"__main__\":\n",
    "    # Create an Employee instance\n",
    "    employee = Employee(\"Alice\", 20)\n",
    "    employee_hours = 45\n",
    "    employee_salary = employee.calculate_salary(employee_hours)\n",
    "    print(f\"{employee.name}'s salary for {employee_hours} hours is: ${employee_salary:.2f}\")\n",
    "\n",
    "    # Create a Manager instance\n",
    "    manager = Manager(\"Bob\", 30, 500)\n",
    "    manager_hours = 50\n",
    "    manager_salary = manager.calculate_salary(manager_hours)\n",
    "    print(f\"{manager.name}'s salary for {manager_hours} hours (including bonus) is: ${manager_salary:.2f}\")"
   ]
  },
  {
   "cell_type": "markdown",
   "id": "cabee3f3-62d6-4314-813c-a735723e19f2",
   "metadata": {},
   "source": [
    "15. Create a class Product with attributes name, price, and quantity. Implement a method total_price() that calculates the total price of the product."
   ]
  },
  {
   "cell_type": "code",
   "execution_count": 64,
   "id": "34fe5e31-65fc-4a4e-9841-26717499d6c2",
   "metadata": {},
   "outputs": [
    {
     "name": "stdout",
     "output_type": "stream",
     "text": [
      "Product: Laptop\n",
      "Unit Price: ₹75000\n",
      "Quantity: 2\n",
      "Total Price: ₹150000\n"
     ]
    }
   ],
   "source": [
    "class Product:\n",
    "    def __init__(self, name, price, quantity):\n",
    "        \"\"\"\n",
    "        Initialize a new Product instance.\n",
    "\n",
    "        :param name: Name of the product\n",
    "        :param price: Unit price of the product\n",
    "        :param quantity: Quantity of the product\n",
    "        \"\"\"\n",
    "        self.name = name\n",
    "        self.price = price\n",
    "        self.quantity = quantity\n",
    "\n",
    "    def total_price(self):\n",
    "        \"\"\"\n",
    "        Calculate the total price of the product.\n",
    "\n",
    "        :return: Total price (price * quantity)\n",
    "        \"\"\"\n",
    "        return self.price * self.quantity\n",
    "\n",
    "# Example usage\n",
    "if __name__ == \"__main__\":\n",
    "    product = Product(\"Laptop\", 75000, 2)\n",
    "    print(f\"Product: {product.name}\")\n",
    "    print(f\"Unit Price: ₹{product.price}\")\n",
    "    print(f\"Quantity: {product.quantity}\")\n",
    "    print(f\"Total Price: ₹{product.total_price()}\")"
   ]
  },
  {
   "cell_type": "markdown",
   "id": "72430596-a83a-477e-b47b-5e81c81d7631",
   "metadata": {},
   "source": [
    "16. Create a class Animal with an abstract method sound(). Create two derived classes Cow and Sheep that implement the sound() method."
   ]
  },
  {
   "cell_type": "code",
   "execution_count": 66,
   "id": "301c895c-7d18-4a44-87bf-70dcd7d2acae",
   "metadata": {},
   "outputs": [
    {
     "name": "stdout",
     "output_type": "stream",
     "text": [
      "Cow says: Moo\n"
     ]
    }
   ],
   "source": [
    "from abc import ABC, abstractmethod\n",
    "\n",
    "class Animal(ABC):\n",
    "    @abstractmethod\n",
    "    def sound(self):\n",
    "        \"\"\"Abstract method to be implemented by all subclasses.\"\"\"\n",
    "        pass\n",
    "\n",
    "class Cow(Animal):\n",
    "    def sound(self):\n",
    "        return \"Moo\"\n",
    "\n",
    "class Sheep(Animal):\n",
    "    def sound(self):\n",
    "        return \"Baa\"\n",
    "\n",
    "# Example usage\n",
    "if __name__ == \"__main__\":\n",
    "    cow = Cow()\n",
    "    sheep = Sheep()\n",
    "\n",
    "    print(f\"Cow says: {cow.sound()}\")"
   ]
  },
  {
   "cell_type": "markdown",
   "id": "35ea7978-e75a-4135-bb10-1763a224029f",
   "metadata": {},
   "source": [
    "17. Create a class Book with attributes title, author, and year_published. Add a method get_book_info() that returns a formatted string with the book's details."
   ]
  },
  {
   "cell_type": "code",
   "execution_count": 68,
   "id": "fb52fe30-a35a-4631-b707-564eb6c9172d",
   "metadata": {},
   "outputs": [
    {
     "name": "stdout",
     "output_type": "stream",
     "text": [
      "Title: To Kill a Mockingbird, Author: Harper Lee, Year Published: 1960\n"
     ]
    }
   ],
   "source": [
    "class Book:\n",
    "    def __init__(self, title, author, year_published):\n",
    "        \"\"\"\n",
    "        Initialize a new Book instance.\n",
    "\n",
    "        :param title: Title of the book\n",
    "        :param author: Author of the book\n",
    "        :param year_published: Year the book was published\n",
    "        \"\"\"\n",
    "        self.title = title\n",
    "        self.author = author\n",
    "        self.year_published = year_published\n",
    "\n",
    "    def get_book_info(self):\n",
    "        \"\"\"\n",
    "        Return a formatted string with the book's details.\n",
    "\n",
    "        :return: Formatted string containing title, author, and year published\n",
    "        \"\"\"\n",
    "        return f\"Title: {self.title}, Author: {self.author}, Year Published: {self.year_published}\"\n",
    "\n",
    "# Example usage\n",
    "if __name__ == \"__main__\":\n",
    "    book = Book(\"To Kill a Mockingbird\", \"Harper Lee\", 1960)\n",
    "    print(book.get_book_info())"
   ]
  },
  {
   "cell_type": "markdown",
   "id": "ed3f653a-a4ed-43eb-867a-d68183a6de5e",
   "metadata": {},
   "source": [
    "18. Create a class House with attributes address and price. Create a derived class Mansion that adds an attribute number_of_rooms."
   ]
  },
  {
   "cell_type": "code",
   "execution_count": 70,
   "id": "0d0b0210-fffb-49d9-8326-19157e510043",
   "metadata": {},
   "outputs": [
    {
     "name": "stdout",
     "output_type": "stream",
     "text": [
      "Address: 123 Main Street, Jaipur, Price: ₹5000000\n",
      "Address: 456 Palace Road, Jaipur, Price: ₹15000000, Rooms: 10\n"
     ]
    }
   ],
   "source": [
    "class House:\n",
    "    def __init__(self, address, price):\n",
    "        \"\"\"\n",
    "        Initialize a new House instance.\n",
    "\n",
    "        :param address: Address of the house\n",
    "        :param price: Price of the house\n",
    "        \"\"\"\n",
    "        self.address = address\n",
    "        self.price = price\n",
    "\n",
    "    def get_info(self):\n",
    "        \"\"\"\n",
    "        Return a formatted string with the house's details.\n",
    "\n",
    "        :return: Formatted string containing address and price\n",
    "        \"\"\"\n",
    "        return f\"Address: {self.address}, Price: ₹{self.price}\"\n",
    "\n",
    "class Mansion(House):\n",
    "    def __init__(self, address, price, number_of_rooms):\n",
    "        \"\"\"\n",
    "        Initialize a new Mansion instance.\n",
    "\n",
    "        :param address: Address of the mansion\n",
    "        :param price: Price of the mansion\n",
    "        :param number_of_rooms: Number of rooms in the mansion\n",
    "        \"\"\"\n",
    "        super().__init__(address, price)\n",
    "        self.number_of_rooms = number_of_rooms\n",
    "\n",
    "    def get_info(self):\n",
    "        \"\"\"\n",
    "        Return a formatted string with the mansion's details.\n",
    "\n",
    "        :return: Formatted string containing address, price, and number of rooms\n",
    "        \"\"\"\n",
    "        base_info = super().get_info()\n",
    "        return f\"{base_info}, Rooms: {self.number_of_rooms}\"\n",
    "\n",
    "# Example usage\n",
    "if __name__ == \"__main__\":\n",
    "    house = House(\"123 Main Street, Jaipur\", 5000000)\n",
    "    print(house.get_info())\n",
    "\n",
    "    mansion = Mansion(\"456 Palace Road, Jaipur\", 15000000, 10)\n",
    "    print(mansion.get_info())"
   ]
  },
  {
   "cell_type": "markdown",
   "id": "c2511612-7fce-4807-8f29-9869990f9c0d",
   "metadata": {},
   "source": [
    "#COMPLETE"
   ]
  }
 ],
 "metadata": {
  "kernelspec": {
   "display_name": "Python 3 (ipykernel)",
   "language": "python",
   "name": "python3"
  },
  "language_info": {
   "codemirror_mode": {
    "name": "ipython",
    "version": 3
   },
   "file_extension": ".py",
   "mimetype": "text/x-python",
   "name": "python",
   "nbconvert_exporter": "python",
   "pygments_lexer": "ipython3",
   "version": "3.12.7"
  }
 },
 "nbformat": 4,
 "nbformat_minor": 5
}
